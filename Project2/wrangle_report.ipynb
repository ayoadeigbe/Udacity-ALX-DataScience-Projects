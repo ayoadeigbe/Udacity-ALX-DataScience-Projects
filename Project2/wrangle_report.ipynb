{
 "cells": [
  {
   "cell_type": "markdown",
   "metadata": {},
   "source": [
    "## Reporting: wragle_report\n",
    "* Create a **300-600 word written report** called \"wrangle_report.pdf\" or \"wrangle_report.html\" that briefly describes your wrangling efforts. This is to be framed as an internal document."
   ]
  },
  {
   "cell_type": "markdown",
   "metadata": {},
   "source": [
    "### INTRODUCTION"
   ]
  },
  {
   "cell_type": "markdown",
   "metadata": {},
   "source": [
    "This report seeks to breifly describe the process of removing errors and combining complex data sets to make them more accessible and easier to analyze. Three different datasets were wrangled, multiple quality and tidiness issues identified and each steps will be discussed in sections below. Visual and programmatic assessement was used assess the data, several iteration of the data wrangling process was also employed to ensure a clean resulting master dataset."
   ]
  },
  {
   "cell_type": "markdown",
   "metadata": {},
   "source": [
    "### Quality issues"
   ]
  },
  {
   "cell_type": "markdown",
   "metadata": {},
   "source": [
    "#### Twitter archive table: Practically empty/missing data across multiple columns (retweeted_status_id - retweeted_status_timestamps,in_reply_to_user_id, in_reply_to_status_id)"
   ]
  },
  {
   "cell_type": "markdown",
   "metadata": {},
   "source": [
    "Some columns in the Twitter archive table datasets were quite scanty - less than 10% of the row are filled with usable data. One option is to fill up the empty spaces with for example average value of available data but this option is not applicable in this case. Attempting to fill up will be commiting data fraud as each field is expected to be unique and verifiable - for example \"retweeted_status\" for a particular tweet.\n",
    "\n",
    "Missing Data in columns 'in_reply_to_status_id', 'in_reply_to_user_id', 'retweeted_status_id', 'retweeted_status_user_id', 'retweeted_status_timestamp'\n",
    "\n",
    "There is a possibility that the Columns 'doggo', 'floofer', 'pupper', 'puppo', are dog names and unique columns were created erroneously. This will be true if each unique entry has none value in the corressponding 'name' column. This ascertion is confirmed as false using command: df_twiter_archive[df_twiter_archive['doggo']=='doggo'].head() for each column name.\n",
    "\n",
    "Data in listed in all columns above are less than 10% which quite negligible and was dropped mostly because we have no supplimentary data."
   ]
  },
  {
   "cell_type": "markdown",
   "metadata": {},
   "source": [
    "#### Twitter archive table: invalid or missing dog name - name represented with single letter or 'None'"
   ]
  },
  {
   "cell_type": "markdown",
   "metadata": {},
   "source": [
    "Dog names were represented with single characters or impossible words like 'the'. All occurences of such single character was replaced with 'none' for uniformity. its better to have no dog name inputted than those that are likely erroneous."
   ]
  },
  {
   "cell_type": "markdown",
   "metadata": {},
   "source": [
    "#### Twitter archive table: 'timestamps' column is in object format"
   ]
  },
  {
   "cell_type": "markdown",
   "metadata": {},
   "source": [
    "Twitter archive table: 'timestamps' column was observed to be in object format. Data manipulation is easier when columns are in the right timestamps format. This was programtically resolved."
   ]
  },
  {
   "cell_type": "markdown",
   "metadata": {},
   "source": [
    "#### Twitter archive table: Remove html tags from URLs in source column"
   ]
  },
  {
   "cell_type": "markdown",
   "metadata": {},
   "source": [
    "HTML tags present in this column makes it impossible to directly lift the data and consume programatically. This contamination is remove with the code below. "
   ]
  },
  {
   "cell_type": "markdown",
   "metadata": {},
   "source": [
    "#### Twitter archive table: Remove retweets"
   ]
  },
  {
   "cell_type": "markdown",
   "metadata": {},
   "source": [
    "Retweets are removed from the Twitter Archive table as part of the project instructions."
   ]
  },
  {
   "cell_type": "markdown",
   "metadata": {},
   "source": [
    "#### Twitter archive table: Remove ratings and URL in text column"
   ]
  },
  {
   "cell_type": "markdown",
   "metadata": {},
   "source": [
    "Present of data like URL and ratings in the text column violate primary data wrangling rule. This was programatically cleaned."
   ]
  },
  {
   "cell_type": "markdown",
   "metadata": {},
   "source": [
    "#### Twiter archive table: Null values in 'expanded_urls' column"
   ]
  },
  {
   "cell_type": "markdown",
   "metadata": {},
   "source": [
    "This exercise was simply to remove empty rows in the \"expanded_urls\" column in the Twitter Archive table"
   ]
  },
  {
   "cell_type": "markdown",
   "metadata": {},
   "source": [
    "#### Image_prediction table: Invalid p1,p2,and p3 columns dog names such as hen, paper_towel etc"
   ]
  },
  {
   "cell_type": "markdown",
   "metadata": {},
   "source": [
    "A number of invalid names for Dogs will removed. List of invalid words is first declared then replaced with the word 'none.\n",
    "Invalid name names including  'cup', 'studio_couch','sliding_door', 'minibus', 'toyshop', 'bald_eagle','binoculars' and more.\n"
   ]
  },
  {
   "cell_type": "markdown",
   "metadata": {},
   "source": [
    "### Tidiness issues"
   ]
  },
  {
   "cell_type": "markdown",
   "metadata": {},
   "source": [
    "#### Image-prediction file column names are not descriptive"
   ]
  },
  {
   "cell_type": "markdown",
   "metadata": {},
   "source": [
    "In the Image preiction table, a number of column are not descriptive. Column names like 'p1', 'p1_conf', 'p1_dog' was changed to 'prediction1', 'prediction1_confidence', and 'prediction1_validity' respectively. "
   ]
  },
  {
   "cell_type": "markdown",
   "metadata": {},
   "source": [
    "#### df_Tweet table should be part of Twitter archive table"
   ]
  },
  {
   "cell_type": "markdown",
   "metadata": {},
   "source": [
    "As part of wrangling activities, df_tweet table was identified as better part of the Twitter Archive table instead of being a stand alone table with only three columns"
   ]
  },
  {
   "cell_type": "code",
   "execution_count": null,
   "metadata": {},
   "outputs": [],
   "source": []
  }
 ],
 "metadata": {
  "kernelspec": {
   "display_name": "Python 3",
   "language": "python",
   "name": "python3"
  },
  "language_info": {
   "codemirror_mode": {
    "name": "ipython",
    "version": 3
   },
   "file_extension": ".py",
   "mimetype": "text/x-python",
   "name": "python",
   "nbconvert_exporter": "python",
   "pygments_lexer": "ipython3",
   "version": "3.6.3"
  }
 },
 "nbformat": 4,
 "nbformat_minor": 2
}
